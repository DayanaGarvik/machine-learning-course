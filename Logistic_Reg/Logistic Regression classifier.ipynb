{
 "cells": [
  {
   "cell_type": "markdown",
   "metadata": {},
   "source": [
    "### Customer Churn\n",
    "The main purpose of the classifier is to predict which clients are most likey to abandon the telecommunication company. It is a known fact that to keep existing customer is much cheaper than trying to acquire new ones, it includes lost revenue on the customers that left and the marketing cost of looking for new clients. Being able to predict customer churn rate allows companies to optimize their marketing focus and create more meaningful relationship with its consumers, among other economic and service-oriented benefits. \n"
   ]
  },
  {
   "cell_type": "code",
   "execution_count": 1,
   "metadata": {},
   "outputs": [],
   "source": [
    "# Importing libraries\n",
    "import pandas as pd\n",
    "import numpy as np\n",
    "import matplotlib.pyplot as plt\n",
    "%matplotlib inline\n",
    "import seaborn as sns"
   ]
  },
  {
   "cell_type": "code",
   "execution_count": 2,
   "metadata": {},
   "outputs": [
    {
     "data": {
      "text/html": [
       "<div>\n",
       "<style scoped>\n",
       "    .dataframe tbody tr th:only-of-type {\n",
       "        vertical-align: middle;\n",
       "    }\n",
       "\n",
       "    .dataframe tbody tr th {\n",
       "        vertical-align: top;\n",
       "    }\n",
       "\n",
       "    .dataframe thead th {\n",
       "        text-align: right;\n",
       "    }\n",
       "</style>\n",
       "<table border=\"1\" class=\"dataframe\">\n",
       "  <thead>\n",
       "    <tr style=\"text-align: right;\">\n",
       "      <th></th>\n",
       "      <th>tenure</th>\n",
       "      <th>age</th>\n",
       "      <th>address</th>\n",
       "      <th>income</th>\n",
       "      <th>ed</th>\n",
       "      <th>employ</th>\n",
       "      <th>equip</th>\n",
       "      <th>callcard</th>\n",
       "      <th>wireless</th>\n",
       "      <th>longmon</th>\n",
       "      <th>...</th>\n",
       "      <th>pager</th>\n",
       "      <th>internet</th>\n",
       "      <th>callwait</th>\n",
       "      <th>confer</th>\n",
       "      <th>ebill</th>\n",
       "      <th>loglong</th>\n",
       "      <th>logtoll</th>\n",
       "      <th>lninc</th>\n",
       "      <th>custcat</th>\n",
       "      <th>churn</th>\n",
       "    </tr>\n",
       "  </thead>\n",
       "  <tbody>\n",
       "    <tr>\n",
       "      <th>0</th>\n",
       "      <td>11.0</td>\n",
       "      <td>33.0</td>\n",
       "      <td>7.0</td>\n",
       "      <td>136.0</td>\n",
       "      <td>5.0</td>\n",
       "      <td>5.0</td>\n",
       "      <td>0.0</td>\n",
       "      <td>1.0</td>\n",
       "      <td>1.0</td>\n",
       "      <td>4.40</td>\n",
       "      <td>...</td>\n",
       "      <td>1.0</td>\n",
       "      <td>0.0</td>\n",
       "      <td>1.0</td>\n",
       "      <td>1.0</td>\n",
       "      <td>0.0</td>\n",
       "      <td>1.482</td>\n",
       "      <td>3.033</td>\n",
       "      <td>4.913</td>\n",
       "      <td>4.0</td>\n",
       "      <td>1.0</td>\n",
       "    </tr>\n",
       "    <tr>\n",
       "      <th>1</th>\n",
       "      <td>33.0</td>\n",
       "      <td>33.0</td>\n",
       "      <td>12.0</td>\n",
       "      <td>33.0</td>\n",
       "      <td>2.0</td>\n",
       "      <td>0.0</td>\n",
       "      <td>0.0</td>\n",
       "      <td>0.0</td>\n",
       "      <td>0.0</td>\n",
       "      <td>9.45</td>\n",
       "      <td>...</td>\n",
       "      <td>0.0</td>\n",
       "      <td>0.0</td>\n",
       "      <td>0.0</td>\n",
       "      <td>0.0</td>\n",
       "      <td>0.0</td>\n",
       "      <td>2.246</td>\n",
       "      <td>3.240</td>\n",
       "      <td>3.497</td>\n",
       "      <td>1.0</td>\n",
       "      <td>1.0</td>\n",
       "    </tr>\n",
       "    <tr>\n",
       "      <th>2</th>\n",
       "      <td>23.0</td>\n",
       "      <td>30.0</td>\n",
       "      <td>9.0</td>\n",
       "      <td>30.0</td>\n",
       "      <td>1.0</td>\n",
       "      <td>2.0</td>\n",
       "      <td>0.0</td>\n",
       "      <td>0.0</td>\n",
       "      <td>0.0</td>\n",
       "      <td>6.30</td>\n",
       "      <td>...</td>\n",
       "      <td>0.0</td>\n",
       "      <td>0.0</td>\n",
       "      <td>0.0</td>\n",
       "      <td>1.0</td>\n",
       "      <td>0.0</td>\n",
       "      <td>1.841</td>\n",
       "      <td>3.240</td>\n",
       "      <td>3.401</td>\n",
       "      <td>3.0</td>\n",
       "      <td>0.0</td>\n",
       "    </tr>\n",
       "    <tr>\n",
       "      <th>3</th>\n",
       "      <td>38.0</td>\n",
       "      <td>35.0</td>\n",
       "      <td>5.0</td>\n",
       "      <td>76.0</td>\n",
       "      <td>2.0</td>\n",
       "      <td>10.0</td>\n",
       "      <td>1.0</td>\n",
       "      <td>1.0</td>\n",
       "      <td>1.0</td>\n",
       "      <td>6.05</td>\n",
       "      <td>...</td>\n",
       "      <td>1.0</td>\n",
       "      <td>1.0</td>\n",
       "      <td>1.0</td>\n",
       "      <td>1.0</td>\n",
       "      <td>1.0</td>\n",
       "      <td>1.800</td>\n",
       "      <td>3.807</td>\n",
       "      <td>4.331</td>\n",
       "      <td>4.0</td>\n",
       "      <td>0.0</td>\n",
       "    </tr>\n",
       "    <tr>\n",
       "      <th>4</th>\n",
       "      <td>7.0</td>\n",
       "      <td>35.0</td>\n",
       "      <td>14.0</td>\n",
       "      <td>80.0</td>\n",
       "      <td>2.0</td>\n",
       "      <td>15.0</td>\n",
       "      <td>0.0</td>\n",
       "      <td>1.0</td>\n",
       "      <td>0.0</td>\n",
       "      <td>7.10</td>\n",
       "      <td>...</td>\n",
       "      <td>0.0</td>\n",
       "      <td>0.0</td>\n",
       "      <td>1.0</td>\n",
       "      <td>1.0</td>\n",
       "      <td>0.0</td>\n",
       "      <td>1.960</td>\n",
       "      <td>3.091</td>\n",
       "      <td>4.382</td>\n",
       "      <td>3.0</td>\n",
       "      <td>0.0</td>\n",
       "    </tr>\n",
       "  </tbody>\n",
       "</table>\n",
       "<p>5 rows × 28 columns</p>\n",
       "</div>"
      ],
      "text/plain": [
       "   tenure   age  address  income   ed  employ  equip  callcard  wireless  \\\n",
       "0    11.0  33.0      7.0   136.0  5.0     5.0    0.0       1.0       1.0   \n",
       "1    33.0  33.0     12.0    33.0  2.0     0.0    0.0       0.0       0.0   \n",
       "2    23.0  30.0      9.0    30.0  1.0     2.0    0.0       0.0       0.0   \n",
       "3    38.0  35.0      5.0    76.0  2.0    10.0    1.0       1.0       1.0   \n",
       "4     7.0  35.0     14.0    80.0  2.0    15.0    0.0       1.0       0.0   \n",
       "\n",
       "   longmon  ...  pager  internet  callwait  confer  ebill  loglong  logtoll  \\\n",
       "0     4.40  ...    1.0       0.0       1.0     1.0    0.0    1.482    3.033   \n",
       "1     9.45  ...    0.0       0.0       0.0     0.0    0.0    2.246    3.240   \n",
       "2     6.30  ...    0.0       0.0       0.0     1.0    0.0    1.841    3.240   \n",
       "3     6.05  ...    1.0       1.0       1.0     1.0    1.0    1.800    3.807   \n",
       "4     7.10  ...    0.0       0.0       1.0     1.0    0.0    1.960    3.091   \n",
       "\n",
       "   lninc  custcat  churn  \n",
       "0  4.913      4.0    1.0  \n",
       "1  3.497      1.0    1.0  \n",
       "2  3.401      3.0    0.0  \n",
       "3  4.331      4.0    0.0  \n",
       "4  4.382      3.0    0.0  \n",
       "\n",
       "[5 rows x 28 columns]"
      ]
     },
     "execution_count": 2,
     "metadata": {},
     "output_type": "execute_result"
    }
   ],
   "source": [
    "# Importing dataset\n",
    "data = pd.read_csv('cust_churn.csv')\n",
    "data.head(5)"
   ]
  },
  {
   "cell_type": "code",
   "execution_count": 3,
   "metadata": {},
   "outputs": [
    {
     "name": "stdout",
     "output_type": "stream",
     "text": [
      "<class 'pandas.core.frame.DataFrame'>\n",
      "RangeIndex: 200 entries, 0 to 199\n",
      "Data columns (total 28 columns):\n",
      "tenure      200 non-null float64\n",
      "age         200 non-null float64\n",
      "address     200 non-null float64\n",
      "income      200 non-null float64\n",
      "ed          200 non-null float64\n",
      "employ      200 non-null float64\n",
      "equip       200 non-null float64\n",
      "callcard    200 non-null float64\n",
      "wireless    200 non-null float64\n",
      "longmon     200 non-null float64\n",
      "tollmon     200 non-null float64\n",
      "equipmon    200 non-null float64\n",
      "cardmon     200 non-null float64\n",
      "wiremon     200 non-null float64\n",
      "longten     200 non-null float64\n",
      "tollten     200 non-null float64\n",
      "cardten     200 non-null float64\n",
      "voice       200 non-null float64\n",
      "pager       200 non-null float64\n",
      "internet    200 non-null float64\n",
      "callwait    200 non-null float64\n",
      "confer      200 non-null float64\n",
      "ebill       200 non-null float64\n",
      "loglong     200 non-null float64\n",
      "logtoll     200 non-null float64\n",
      "lninc       200 non-null float64\n",
      "custcat     200 non-null float64\n",
      "churn       200 non-null float64\n",
      "dtypes: float64(28)\n",
      "memory usage: 43.8 KB\n"
     ]
    }
   ],
   "source": [
    "# Checking columns format\n",
    "data.info()"
   ]
  },
  {
   "cell_type": "code",
   "execution_count": 4,
   "metadata": {},
   "outputs": [
    {
     "name": "stdout",
     "output_type": "stream",
     "text": [
      "Rows     :  200\n",
      "Columns  :  28\n",
      "\n",
      "Features : \n",
      " ['tenure', 'age', 'address', 'income', 'ed', 'employ', 'equip', 'callcard', 'wireless', 'longmon', 'tollmon', 'equipmon', 'cardmon', 'wiremon', 'longten', 'tollten', 'cardten', 'voice', 'pager', 'internet', 'callwait', 'confer', 'ebill', 'loglong', 'logtoll', 'lninc', 'custcat', 'churn']\n",
      "\n",
      "Missing values :   0\n",
      "\n",
      "Unique values :  \n",
      " tenure       68\n",
      "age          51\n",
      "address      40\n",
      "income      101\n",
      "ed            5\n",
      "employ       35\n",
      "equip         2\n",
      "callcard      2\n",
      "wireless      2\n",
      "longmon     157\n",
      "tollmon      65\n",
      "equipmon     82\n",
      "cardmon      92\n",
      "wiremon      57\n",
      "longten     198\n",
      "tollten      99\n",
      "cardten     124\n",
      "voice         2\n",
      "pager         2\n",
      "internet      2\n",
      "callwait      2\n",
      "confer        2\n",
      "ebill         2\n",
      "loglong     157\n",
      "logtoll      65\n",
      "lninc       101\n",
      "custcat       4\n",
      "churn         2\n",
      "dtype: int64\n"
     ]
    }
   ],
   "source": [
    "# Checking number of rows and columns,\n",
    "# names of all the columns,\n",
    "# as well as checking for missing values\n",
    "# and number of unique valus per column.\n",
    "print (\"Rows     : \" ,data.shape[0])\n",
    "print (\"Columns  : \" ,data.shape[1])\n",
    "print (\"\\nFeatures : \\n\" ,data.columns.tolist())\n",
    "print (\"\\nMissing values :  \", data.isnull().sum().values.sum())\n",
    "print (\"\\nUnique values :  \\n\",data.nunique())"
   ]
  },
  {
   "cell_type": "code",
   "execution_count": 5,
   "metadata": {},
   "outputs": [
    {
     "data": {
      "text/plain": [
       "Text(0.5, 1.0, 'Distribution of Customer Churn')"
      ]
     },
     "execution_count": 5,
     "metadata": {},
     "output_type": "execute_result"
    },
    {
     "data": {
      "image/png": "[encoded data removed]",
      "text/plain": [
       "<Figure size 432x288 with 1 Axes>"
      ]
     },
     "metadata": {},
     "output_type": "display_data"
    }
   ],
   "source": [
    "# Checking proportion of customers who left vs those who haven't\n",
    "sns.set(style=\"whitegrid\")\n",
    "\n",
    "ax=sns.countplot(x='churn',palette=\"Set3\", data=data)\n",
    "ax.set_xticklabels([\"No\",\"Yes\"])\n",
    "ax.set_ylabel(\"Count\")\n",
    "ax.set_xlabel(\"Customer Churn\")\n",
    "ax.set_title(\"Distribution of Customer Churn\")\n"
   ]
  },
  {
   "cell_type": "code",
   "execution_count": 6,
   "metadata": {},
   "outputs": [
    {
     "data": {
      "text/plain": [
       "churn       1.000000\n",
       "equip       0.275284\n",
       "equipmon    0.255348\n",
       "ebill       0.254838\n",
       "internet    0.254838\n",
       "ed          0.216112\n",
       "wiremon     0.177483\n",
       "wireless    0.174356\n",
       "voice       0.142315\n",
       "pager       0.124623\n",
       "custcat     0.014839\n",
       "tollmon     0.014356\n",
       "callwait   -0.052885\n",
       "tollten    -0.059482\n",
       "logtoll    -0.070156\n",
       "confer     -0.081361\n",
       "income     -0.090790\n",
       "lninc      -0.117459\n",
       "cardmon    -0.177163\n",
       "cardten    -0.228634\n",
       "address    -0.260659\n",
       "age        -0.287697\n",
       "longmon    -0.292026\n",
       "longten    -0.294906\n",
       "callcard   -0.311451\n",
       "loglong    -0.336869\n",
       "employ     -0.337969\n",
       "tenure     -0.376860\n",
       "Name: churn, dtype: float64"
      ]
     },
     "execution_count": 6,
     "metadata": {},
     "output_type": "execute_result"
    }
   ],
   "source": [
    "# Checking how the features are correlated with the dependent variable\n",
    "corr_data = data.corr()\n",
    "corr_churn = corr_data['churn']\n",
    "corr_churn.sort_values(ascending=False)"
   ]
  },
  {
   "cell_type": "code",
   "execution_count": 17,
   "metadata": {},
   "outputs": [
    {
     "data": {
      "text/plain": [
       "(array([ 0,  1,  2,  3,  4,  5,  6,  7,  8,  9, 10, 11, 12, 13, 14, 15, 16,\n",
       "        17, 18, 19, 20, 21, 22, 23, 24, 25, 26, 27]),\n",
       " <a list of 28 Text xticklabel objects>)"
      ]
     },
     "execution_count": 17,
     "metadata": {},
     "output_type": "execute_result"
    },
    {
     "data": {
      "image/png": "[encoded data removed]",
      "text/plain": [
       "<Figure size 1080x576 with 1 Axes>"
      ]
     },
     "metadata": {},
     "output_type": "display_data"
    }
   ],
   "source": [
    "# Visualizing the features with highest correlation with the dependent variable\n",
    "plt.figure(figsize=(15,8))\n",
    "\n",
    "corr_bars = data.corr()['churn'].sort_values(ascending = False)\n",
    "colours = []\n",
    "for val in corr_bars:\n",
    "    if val <= -0.25:\n",
    "        colours.append('red')\n",
    "    elif val >= 0.25:\n",
    "        colours.append('red')\n",
    "    else:\n",
    "        colours.append('blue')\n",
    "corr_bars.plot(kind='bar', color=colours)\n",
    "plt.xticks(rotation=45)"
   ]
  },
  {
   "cell_type": "markdown",
   "metadata": {},
   "source": [
    "## Features with high corr.coefficient\n",
    "### tenure, employ, loglong, callcard, longten, longmon, age, equip, address, equipmon, ebill, internet, cardten"
   ]
  },
  {
   "cell_type": "code",
   "execution_count": 18,
   "metadata": {},
   "outputs": [],
   "source": [
    "# Several combinations of the features with high correlation coefficient were tested, \n",
    "# the one below gave the best accuracy score\n",
    "X = data[['tenure', 'employ', 'internet', 'age']]\n",
    "y = data['churn']"
   ]
  },
  {
   "cell_type": "code",
   "execution_count": 19,
   "metadata": {},
   "outputs": [],
   "source": [
    "# Splitting the dataset,\n",
    "# using 'stratify=y' parameter to insure the same proportion of the values\n",
    "# in the test set as in the train set\n",
    "from sklearn.model_selection import train_test_split\n",
    "X_train, X_test, y_train, y_test = train_test_split(X, y, test_size=0.2, random_state=42, stratify=y)"
   ]
  },
  {
   "cell_type": "code",
   "execution_count": 20,
   "metadata": {},
   "outputs": [],
   "source": [
    "# Standardizing the features with the StandardScaler\n",
    "from sklearn.preprocessing import StandardScaler\n",
    "sc = StandardScaler()\n",
    "X_train = sc.fit_transform(X_train)\n",
    "X_test = sc.transform(X_test)"
   ]
  },
  {
   "cell_type": "code",
   "execution_count": 21,
   "metadata": {},
   "outputs": [
    {
     "name": "stderr",
     "output_type": "stream",
     "text": [
      "//anaconda3/lib/python3.7/site-packages/sklearn/linear_model/logistic.py:432: FutureWarning: Default solver will be changed to 'lbfgs' in 0.22. Specify a solver to silence this warning.\n",
      "  FutureWarning)\n"
     ]
    },
    {
     "data": {
      "text/plain": [
       "LogisticRegression(C=1.0, class_weight=None, dual=False, fit_intercept=True,\n",
       "                   intercept_scaling=1, l1_ratio=None, max_iter=100,\n",
       "                   multi_class='warn', n_jobs=None, penalty='l2',\n",
       "                   random_state=0, solver='warn', tol=0.0001, verbose=0,\n",
       "                   warm_start=False)"
      ]
     },
     "execution_count": 21,
     "metadata": {},
     "output_type": "execute_result"
    }
   ],
   "source": [
    "from sklearn.linear_model import LogisticRegression\n",
    "classifier = LogisticRegression(random_state=0)\n",
    "classifier.fit(X_train, y_train)"
   ]
  },
  {
   "cell_type": "code",
   "execution_count": 22,
   "metadata": {},
   "outputs": [],
   "source": [
    "y_pred = classifier.predict(X_test)"
   ]
  },
  {
   "cell_type": "code",
   "execution_count": 23,
   "metadata": {},
   "outputs": [
    {
     "name": "stdout",
     "output_type": "stream",
     "text": [
      "Accuracy score = 0.775\n",
      "Jaccard Index = 0.438\n",
      "Log Loss = 7.771\n"
     ]
    }
   ],
   "source": [
    "# Measuring accuracy of the model \n",
    "from sklearn.metrics import accuracy_score\n",
    "from sklearn.metrics import jaccard_score\n",
    "from sklearn.metrics import log_loss\n",
    "acc_score = accuracy_score(y_test, y_pred)\n",
    "jacc_index = jaccard_score(y_test, y_pred)\n",
    "loss = log_loss(y_test, y_pred)\n",
    "print('Accuracy score = {:.3f}'.format(acc_score))\n",
    "print('Jaccard Index = {:.3f}'.format(jacc_index))\n",
    "print('Log Loss = {:.3f}'.format(loss))"
   ]
  },
  {
   "cell_type": "code",
   "execution_count": 24,
   "metadata": {},
   "outputs": [
    {
     "name": "stdout",
     "output_type": "stream",
     "text": [
      "[[24  4]\n",
      " [ 5  7]]\n"
     ]
    }
   ],
   "source": [
    "from sklearn.metrics import confusion_matrix\n",
    "cm = confusion_matrix(y_test, y_pred)\n",
    "print(cm)"
   ]
  },
  {
   "cell_type": "code",
   "execution_count": 25,
   "metadata": {},
   "outputs": [
    {
     "name": "stdout",
     "output_type": "stream",
     "text": [
      "  liblinear 0.750\n",
      "  newton-cg 0.744\n",
      "  lbfgs 0.744\n",
      "  sag 0.744\n",
      "  saga 0.744\n"
     ]
    },
    {
     "name": "stderr",
     "output_type": "stream",
     "text": [
      "//anaconda3/lib/python3.7/site-packages/sklearn/model_selection/_search.py:813: DeprecationWarning: The default of the `iid` parameter will change from True to False in version 0.22 and will be removed in 0.24. This will change numeric results when test-set sizes are unequal.\n",
      "  DeprecationWarning)\n"
     ]
    }
   ],
   "source": [
    "# Testing different solvers to optimize the model \n",
    "from sklearn.model_selection import GridSearchCV\n",
    "solver_list = ['liblinear', 'newton-cg', 'lbfgs', 'sag', 'saga']\n",
    "params = dict(solver=solver_list)\n",
    "log_reg = LogisticRegression(C=1, random_state=42)\n",
    "clf = GridSearchCV(log_reg, params, cv=5)\n",
    "clf.fit(X_train, y_train)\n",
    "scores = clf.cv_results_['mean_test_score']\n",
    "\n",
    "for score, solver in zip(scores, solver_list):\n",
    "    print(f\"  {solver} {score:.3f}\" )"
   ]
  },
  {
   "cell_type": "markdown",
   "metadata": {},
   "source": [
    "Model performed best without solvers."
   ]
  },
  {
   "cell_type": "code",
   "execution_count": null,
   "metadata": {},
   "outputs": [],
   "source": []
  }
 ],
 "metadata": {
  "kernelspec": {
   "display_name": "Python 3",
   "language": "python",
   "name": "python3"
  },
  "language_info": {
   "codemirror_mode": {
    "name": "ipython",
    "version": 3
   },
   "file_extension": ".py",
   "mimetype": "text/x-python",
   "name": "python",
   "nbconvert_exporter": "python",
   "pygments_lexer": "ipython3",
   "version": "3.7.3"
  }
 },
 "nbformat": 4,
 "nbformat_minor": 2
}
