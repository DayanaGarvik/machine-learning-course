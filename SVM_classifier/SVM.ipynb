{
 "cells": [
  {
   "cell_type": "markdown",
   "metadata": {},
   "source": [
    "### Classifying\thuman cells\tto whether the samples are benign or malignant.\t"
   ]
  },
  {
   "cell_type": "code",
   "execution_count": 1,
   "metadata": {},
   "outputs": [],
   "source": [
    "# Import libraries\n",
    "import pandas as pd\n",
    "import numpy as np\n",
    "import matplotlib.pyplot as plt\n",
    "%matplotlib inline"
   ]
  },
  {
   "cell_type": "code",
   "execution_count": 2,
   "metadata": {},
   "outputs": [
    {
     "data": {
      "text/html": [
       "<div>\n",
       "<style scoped>\n",
       "    .dataframe tbody tr th:only-of-type {\n",
       "        vertical-align: middle;\n",
       "    }\n",
       "\n",
       "    .dataframe tbody tr th {\n",
       "        vertical-align: top;\n",
       "    }\n",
       "\n",
       "    .dataframe thead th {\n",
       "        text-align: right;\n",
       "    }\n",
       "</style>\n",
       "<table border=\"1\" class=\"dataframe\">\n",
       "  <thead>\n",
       "    <tr style=\"text-align: right;\">\n",
       "      <th></th>\n",
       "      <th>ID</th>\n",
       "      <th>Clump</th>\n",
       "      <th>UnifSize</th>\n",
       "      <th>UnifShape</th>\n",
       "      <th>MargAdh</th>\n",
       "      <th>SingEpiSize</th>\n",
       "      <th>BareNuc</th>\n",
       "      <th>BlandChrom</th>\n",
       "      <th>NormNucl</th>\n",
       "      <th>Mit</th>\n",
       "      <th>Class</th>\n",
       "    </tr>\n",
       "  </thead>\n",
       "  <tbody>\n",
       "    <tr>\n",
       "      <th>0</th>\n",
       "      <td>1000025</td>\n",
       "      <td>5</td>\n",
       "      <td>1</td>\n",
       "      <td>1</td>\n",
       "      <td>1</td>\n",
       "      <td>2</td>\n",
       "      <td>1</td>\n",
       "      <td>3</td>\n",
       "      <td>1</td>\n",
       "      <td>1</td>\n",
       "      <td>2</td>\n",
       "    </tr>\n",
       "    <tr>\n",
       "      <th>1</th>\n",
       "      <td>1002945</td>\n",
       "      <td>5</td>\n",
       "      <td>4</td>\n",
       "      <td>4</td>\n",
       "      <td>5</td>\n",
       "      <td>7</td>\n",
       "      <td>10</td>\n",
       "      <td>3</td>\n",
       "      <td>2</td>\n",
       "      <td>1</td>\n",
       "      <td>2</td>\n",
       "    </tr>\n",
       "    <tr>\n",
       "      <th>2</th>\n",
       "      <td>1015425</td>\n",
       "      <td>3</td>\n",
       "      <td>1</td>\n",
       "      <td>1</td>\n",
       "      <td>1</td>\n",
       "      <td>2</td>\n",
       "      <td>2</td>\n",
       "      <td>3</td>\n",
       "      <td>1</td>\n",
       "      <td>1</td>\n",
       "      <td>2</td>\n",
       "    </tr>\n",
       "    <tr>\n",
       "      <th>3</th>\n",
       "      <td>1016277</td>\n",
       "      <td>6</td>\n",
       "      <td>8</td>\n",
       "      <td>8</td>\n",
       "      <td>1</td>\n",
       "      <td>3</td>\n",
       "      <td>4</td>\n",
       "      <td>3</td>\n",
       "      <td>7</td>\n",
       "      <td>1</td>\n",
       "      <td>2</td>\n",
       "    </tr>\n",
       "    <tr>\n",
       "      <th>4</th>\n",
       "      <td>1017023</td>\n",
       "      <td>4</td>\n",
       "      <td>1</td>\n",
       "      <td>1</td>\n",
       "      <td>3</td>\n",
       "      <td>2</td>\n",
       "      <td>1</td>\n",
       "      <td>3</td>\n",
       "      <td>1</td>\n",
       "      <td>1</td>\n",
       "      <td>2</td>\n",
       "    </tr>\n",
       "    <tr>\n",
       "      <th>5</th>\n",
       "      <td>1017122</td>\n",
       "      <td>8</td>\n",
       "      <td>10</td>\n",
       "      <td>10</td>\n",
       "      <td>8</td>\n",
       "      <td>7</td>\n",
       "      <td>10</td>\n",
       "      <td>9</td>\n",
       "      <td>7</td>\n",
       "      <td>1</td>\n",
       "      <td>4</td>\n",
       "    </tr>\n",
       "    <tr>\n",
       "      <th>6</th>\n",
       "      <td>1018099</td>\n",
       "      <td>1</td>\n",
       "      <td>1</td>\n",
       "      <td>1</td>\n",
       "      <td>1</td>\n",
       "      <td>2</td>\n",
       "      <td>10</td>\n",
       "      <td>3</td>\n",
       "      <td>1</td>\n",
       "      <td>1</td>\n",
       "      <td>2</td>\n",
       "    </tr>\n",
       "    <tr>\n",
       "      <th>7</th>\n",
       "      <td>1018561</td>\n",
       "      <td>2</td>\n",
       "      <td>1</td>\n",
       "      <td>2</td>\n",
       "      <td>1</td>\n",
       "      <td>2</td>\n",
       "      <td>1</td>\n",
       "      <td>3</td>\n",
       "      <td>1</td>\n",
       "      <td>1</td>\n",
       "      <td>2</td>\n",
       "    </tr>\n",
       "    <tr>\n",
       "      <th>8</th>\n",
       "      <td>1033078</td>\n",
       "      <td>2</td>\n",
       "      <td>1</td>\n",
       "      <td>1</td>\n",
       "      <td>1</td>\n",
       "      <td>2</td>\n",
       "      <td>1</td>\n",
       "      <td>1</td>\n",
       "      <td>1</td>\n",
       "      <td>5</td>\n",
       "      <td>2</td>\n",
       "    </tr>\n",
       "    <tr>\n",
       "      <th>9</th>\n",
       "      <td>1033078</td>\n",
       "      <td>4</td>\n",
       "      <td>2</td>\n",
       "      <td>1</td>\n",
       "      <td>1</td>\n",
       "      <td>2</td>\n",
       "      <td>1</td>\n",
       "      <td>2</td>\n",
       "      <td>1</td>\n",
       "      <td>1</td>\n",
       "      <td>2</td>\n",
       "    </tr>\n",
       "  </tbody>\n",
       "</table>\n",
       "</div>"
      ],
      "text/plain": [
       "        ID  Clump  UnifSize  UnifShape  MargAdh  SingEpiSize BareNuc  \\\n",
       "0  1000025      5         1          1        1            2       1   \n",
       "1  1002945      5         4          4        5            7      10   \n",
       "2  1015425      3         1          1        1            2       2   \n",
       "3  1016277      6         8          8        1            3       4   \n",
       "4  1017023      4         1          1        3            2       1   \n",
       "5  1017122      8        10         10        8            7      10   \n",
       "6  1018099      1         1          1        1            2      10   \n",
       "7  1018561      2         1          2        1            2       1   \n",
       "8  1033078      2         1          1        1            2       1   \n",
       "9  1033078      4         2          1        1            2       1   \n",
       "\n",
       "   BlandChrom  NormNucl  Mit  Class  \n",
       "0           3         1    1      2  \n",
       "1           3         2    1      2  \n",
       "2           3         1    1      2  \n",
       "3           3         7    1      2  \n",
       "4           3         1    1      2  \n",
       "5           9         7    1      4  \n",
       "6           3         1    1      2  \n",
       "7           3         1    1      2  \n",
       "8           1         1    5      2  \n",
       "9           2         1    1      2  "
      ]
     },
     "execution_count": 2,
     "metadata": {},
     "output_type": "execute_result"
    }
   ],
   "source": [
    "data = pd.read_csv('cell_data.csv')\n",
    "data.head(10)"
   ]
  },
  {
   "cell_type": "markdown",
   "metadata": {},
   "source": [
    "The\tdataset consists of\tseveral\thundred\thuman cell sample records, each\tof which contains the values of\ta set of cell characteristics. The ID field\tcontains the patient identifiers. The characteristics of the cell samples from each\tpatient\tare\tcontained in fields\tClump to Mit. The values are graded\tfrom 1 to 10, with 1 being the closest to benign. The Class\tfield contains the diagnosis, as confirmed by separate medical procedures, as to whether the samples are benign\t(value=2) or malignant (value=4)."
   ]
  },
  {
   "cell_type": "code",
   "execution_count": 3,
   "metadata": {},
   "outputs": [
    {
     "name": "stdout",
     "output_type": "stream",
     "text": [
      "Rows:  699\n",
      "Columns:  11\n",
      "\n",
      "Features:  \n",
      " ['ID', 'Clump', 'UnifSize', 'UnifShape', 'MargAdh', 'SingEpiSize', 'BareNuc', 'BlandChrom', 'NormNucl', 'Mit', 'Class']\n",
      "\n",
      "Missing values: \n",
      " 0\n",
      "\n",
      "Unique values: \n",
      " ID             645\n",
      "Clump           10\n",
      "UnifSize        10\n",
      "UnifShape       10\n",
      "MargAdh         10\n",
      "SingEpiSize     10\n",
      "BareNuc         11\n",
      "BlandChrom      10\n",
      "NormNucl        10\n",
      "Mit              9\n",
      "Class            2\n",
      "dtype: int64\n"
     ]
    }
   ],
   "source": [
    "# Checking number of rows and columns,\n",
    "# names of all the columns,\n",
    "# as well as checking for missing values\n",
    "# and number of unique valus per column.\n",
    "print('Rows: ', data.shape[0])\n",
    "print('Columns: ', data.shape[1])\n",
    "print('\\nFeatures: ', '\\n',data.columns.tolist())\n",
    "print('\\nMissing values:', '\\n',data.isnull().sum().values.sum())\n",
    "print('\\nUnique values:', '\\n',data.nunique())"
   ]
  },
  {
   "cell_type": "code",
   "execution_count": 4,
   "metadata": {},
   "outputs": [
    {
     "name": "stdout",
     "output_type": "stream",
     "text": [
      "<class 'pandas.core.frame.DataFrame'>\n",
      "RangeIndex: 699 entries, 0 to 698\n",
      "Data columns (total 11 columns):\n",
      "ID             699 non-null int64\n",
      "Clump          699 non-null int64\n",
      "UnifSize       699 non-null int64\n",
      "UnifShape      699 non-null int64\n",
      "MargAdh        699 non-null int64\n",
      "SingEpiSize    699 non-null int64\n",
      "BareNuc        699 non-null object\n",
      "BlandChrom     699 non-null int64\n",
      "NormNucl       699 non-null int64\n",
      "Mit            699 non-null int64\n",
      "Class          699 non-null int64\n",
      "dtypes: int64(10), object(1)\n",
      "memory usage: 60.1+ KB\n"
     ]
    }
   ],
   "source": [
    "#Checking data format of columns\n",
    "data.info()"
   ]
  },
  {
   "cell_type": "code",
   "execution_count": 5,
   "metadata": {},
   "outputs": [
    {
     "data": {
      "text/plain": [
       "ID             645\n",
       "Clump           10\n",
       "UnifSize        10\n",
       "UnifShape       10\n",
       "MargAdh         10\n",
       "SingEpiSize     10\n",
       "BareNuc         11\n",
       "BlandChrom      10\n",
       "NormNucl        10\n",
       "Mit              9\n",
       "Class            2\n",
       "dtype: int64"
      ]
     },
     "execution_count": 5,
     "metadata": {},
     "output_type": "execute_result"
    }
   ],
   "source": [
    "data.nunique()"
   ]
  },
  {
   "cell_type": "code",
   "execution_count": 6,
   "metadata": {},
   "outputs": [
    {
     "name": "stdout",
     "output_type": "stream",
     "text": [
      "['1', '10', '2', '4', '1', '10', '10', '1', '1', '1', '1', '1', '3', '3', '9', '1', '1', '1', '10', '1', '10', '7', '1', '?', '1', '7', '1', '1', '1', '1', '1', '1', '5', '1', '1', '1', '1', '1', '10', '7', '?', '3', '10', '1', '1', '1', '9', '1', '1', '8', '3', '4', '5', '8', '8', '5', '6', '1', '10', '2', '3', '2', '8', '2', '1', '2', '1', '10', '9', '1', '1', '2', '1', '10', '4', '2', '1', '1', '3', '1', '1', '1', '1', '2', '9', '4', '8', '10', '1', '1', '1', '1', '1', '1', '1', '1', '1', '1', '6', '10', '5', '5', '1', '3', '1', '3', '10', '10', '1', '9', '2', '9', '10', '8', '3', '5', '2', '10', '3', '2', '1', '2', '10', '10', '7', '1', '10', '1', '10', '1', '1', '1', '10', '1', '1', '2', '1', '1', '1', '?', '1', '1', '5', '5', '1', '?', '8', '2', '1', '10', '1', '10', '5', '3', '1', '10', '1', '1', '?', '10', '10', '1', '1', '3', '?', '2', '10', '1', '1', '1', '1', '1', '1', '10', '10', '10', '1', '1', '1', '10', '1', '1', '1', '10', '10', '1', '8', '10', '8', '1', '8', '10', '1', '1', '1', '1', '7', '1', '1', '1', '10', '10', '1', '1', '1', '10', '5', '1', '1', '1', '10', '8', '1', '10', '10', '5', '1', '1', '4', '1', '1', '10', '5', '8', '10', '1', '10', '5', '1', '10', '7', '8', '1', '10', '1', '?', '10', '2', '9', '10', '2', '1', '1', '5', '1', '2', '10', '9', '1', '?', '1', '10', '10', '10', '8', '10', '1', '1', '1', '8', '10', '10', '10', '10', '3', '1', '10', '10', '4', '1', '10', '1', '10', '4', '1', '?', '1', '1', '1', '7', '1', '1', '10', '10', '10', '10', '10', '1', '5', '10', '1', '1', '?', '10', '?', '10', '5', '?', '1', '10', '4', '1', '10', '1', '10', '10', '1', '1', '3', '5', '1', '1', '1', '1', '1', '?', '10', '8', '1', '5', '10', '?', '1', '10', '1', '1', '10', '1', '4', '10', '8', '1', '1', '10', '10', '1', '10', '1', '1', '10', '10', '1', '1', '1', '10', '1', '1', '1', '1', '8', '1', '1', '3', '10', '1', '1', '3', '10', '4', '7', '10', '10', '3', '3', '1', '1', '10', '10', '1', '1', '1', '1', '1', '1', '1', '1', '1', '1', '1', '1', '1', '10', '1', '1', '1', '1', '10', '1', '1', '2', '1', '10', '1', '1', '1', '1', '1', '1', '1', '1', '9', '1', '1', '4', '1', '1', '1', '1', '2', '1', '1', '?', '4', '1', '10', '3', '10', '1', '2', '1', '3', '10', '1', '1', '1', '10', '1', '2', '1', '1', '1', '1', '1', '1', '8', '10', '1', '1', '1', '1', '10', '4', '3', '2', '1', '1', '1', '1', '1', '10', '1', '1', '1', '10', '1', '6', '10', '3', '1', '1', '1', '5', '1', '1', '1', '4', '10', '10', '1', '1', '1', '1', '1', '1', '1', '1', '1', '1', '1', '10', '1', '1', '5', '10', '1', '3', '1', '10', '3', '4', '1', '10', '1', '10', '5', '1', '1', '1', '1', '1', '1', '1', '1', '1', '1', '1', '5', '4', '1', '1', '1', '1', '1', '1', '10', '10', '1', '1', '1', '10', '1', '1', '5', '10', '1', '1', '1', '1', '1', '1', '10', '1', '1', '1', '1', '1', '1', '1', '1', '1', '2', '1', '1', '1', '1', '1', '10', '1', '1', '5', '1', '1', '1', '5', '1', '1', '1', '1', '1', '1', '1', '1', '1', '1', '1', '10', '1', '3', '10', '5', '10', '10', '1', '1', '2', '1', '1', '1', '1', '1', '1', '10', '10', '1', '1', '1', '10', '1', '3', '1', '1', '10', '10', '1', '10', '1', '1', '1', '1', '1', '1', '1', '1', '1', '10', '8', '1', '1', '10', '1', '10', '2', '10', '1', '1', '1', '1', '?', '1', '1', '1', '2', '1', '1', '1', '4', '6', '5', '1', '1', '1', '1', '1', '3', '1', '1', '1', '2', '1', '1', '1', '1', '1', '1', '1', '1', '1', '1', '2', '1', '4', '1', '1', '1', '1', '1', '1', '1', '10', '1', '1', '1', '1', '1', '1', '1', '1', '1', '1', '5', '8', '1', '1', '1', '1', '1', '1', '1', '1', '1', '10', '10', '1', '1', '1', '1', '1', '1', '1', '1', '1', '5', '1', '1', '2', '1', '3', '4', '5']\n"
     ]
    }
   ],
   "source": [
    "print(data['BareNuc'].tolist())"
   ]
  },
  {
   "cell_type": "markdown",
   "metadata": {},
   "source": [
    "Column BareNuc has several categorical variables '?'. In order to drop them I transform the column values to numeric first, then the categorical variables will become 'NaN' (missing values). And then I drop them with dropna() function."
   ]
  },
  {
   "cell_type": "code",
   "execution_count": 7,
   "metadata": {},
   "outputs": [],
   "source": [
    "data['BareNuc'] = pd.to_numeric(data['BareNuc'], errors='coerce')"
   ]
  },
  {
   "cell_type": "code",
   "execution_count": 8,
   "metadata": {},
   "outputs": [
    {
     "data": {
      "text/plain": [
       "ID              0\n",
       "Clump           0\n",
       "UnifSize        0\n",
       "UnifShape       0\n",
       "MargAdh         0\n",
       "SingEpiSize     0\n",
       "BareNuc        16\n",
       "BlandChrom      0\n",
       "NormNucl        0\n",
       "Mit             0\n",
       "Class           0\n",
       "dtype: int64"
      ]
     },
     "execution_count": 8,
     "metadata": {},
     "output_type": "execute_result"
    }
   ],
   "source": [
    "data.isnull().sum()"
   ]
  },
  {
   "cell_type": "code",
   "execution_count": 9,
   "metadata": {},
   "outputs": [
    {
     "data": {
      "text/plain": [
       "ID             0\n",
       "Clump          0\n",
       "UnifSize       0\n",
       "UnifShape      0\n",
       "MargAdh        0\n",
       "SingEpiSize    0\n",
       "BareNuc        0\n",
       "BlandChrom     0\n",
       "NormNucl       0\n",
       "Mit            0\n",
       "Class          0\n",
       "dtype: int64"
      ]
     },
     "execution_count": 9,
     "metadata": {},
     "output_type": "execute_result"
    }
   ],
   "source": [
    "data = data.dropna(subset=['BareNuc'])\n",
    "data.isnull().sum()"
   ]
  },
  {
   "cell_type": "code",
   "execution_count": 10,
   "metadata": {},
   "outputs": [],
   "source": [
    "# Replace values of the dependent variable Class into:\n",
    "# benign - 0 and malignant - 1\n",
    "data.Class.replace({2:0, 4:1}, inplace=True)"
   ]
  },
  {
   "cell_type": "code",
   "execution_count": 11,
   "metadata": {},
   "outputs": [],
   "source": [
    "# Defining features and predictor variable\n",
    "X = data.iloc[:, :-1].values\n",
    "y = data.iloc[:, -1].values"
   ]
  },
  {
   "cell_type": "code",
   "execution_count": 12,
   "metadata": {},
   "outputs": [],
   "source": [
    "# Splitting dataset into train and test set\n",
    "from sklearn.model_selection import train_test_split\n",
    "X_train, X_test, y_train, y_test = train_test_split(X, y, test_size=0.2, random_state=42, stratify=y)"
   ]
  },
  {
   "cell_type": "code",
   "execution_count": 13,
   "metadata": {},
   "outputs": [],
   "source": [
    "from sklearn.preprocessing import StandardScaler\n",
    "sc = StandardScaler()\n",
    "X_train = sc.fit_transform(X_train)\n",
    "X_test = sc.transform(X_test)"
   ]
  },
  {
   "cell_type": "code",
   "execution_count": 14,
   "metadata": {},
   "outputs": [
    {
     "data": {
      "text/plain": [
       "LinearSVC(C=1, class_weight=None, dual=True, fit_intercept=True,\n",
       "          intercept_scaling=1, loss='hinge', max_iter=1000, multi_class='ovr',\n",
       "          penalty='l2', random_state=None, tol=0.0001, verbose=0)"
      ]
     },
     "execution_count": 14,
     "metadata": {},
     "output_type": "execute_result"
    }
   ],
   "source": [
    "from sklearn.svm import LinearSVC\n",
    "classifier = LinearSVC(C=1, loss='hinge')\n",
    "classifier.fit(X_train, y_train)"
   ]
  },
  {
   "cell_type": "code",
   "execution_count": 15,
   "metadata": {},
   "outputs": [
    {
     "name": "stdout",
     "output_type": "stream",
     "text": [
      "Accuracy score = 0.956\n",
      "Jaccard Index = 0.885\n",
      "Confusion matrix:  \n",
      " [[85  4]\n",
      " [ 2 46]]\n"
     ]
    }
   ],
   "source": [
    "# Measuring accuracy of the model \n",
    "from sklearn.metrics import accuracy_score\n",
    "from sklearn.metrics import jaccard_score\n",
    "from sklearn.metrics import confusion_matrix\n",
    "\n",
    "y_pred = classifier.predict(X_test)\n",
    "acc_score = accuracy_score(y_test, y_pred)\n",
    "jacc_index = jaccard_score(y_test, y_pred)\n",
    "\n",
    "print('Accuracy score = {:.3f}'.format(acc_score))\n",
    "print('Jaccard Index = {:.3f}'.format(jacc_index))\n",
    "\n",
    "cm = confusion_matrix(y_test, y_pred)\n",
    "print('Confusion matrix: ', '\\n',cm)"
   ]
  },
  {
   "cell_type": "code",
   "execution_count": 16,
   "metadata": {},
   "outputs": [
    {
     "data": {
      "text/plain": [
       "SVC(C=1, cache_size=200, class_weight=None, coef0=0.0,\n",
       "    decision_function_shape='ovr', degree=3, gamma=2, kernel='rbf', max_iter=-1,\n",
       "    probability=False, random_state=None, shrinking=True, tol=0.001,\n",
       "    verbose=False)"
      ]
     },
     "execution_count": 16,
     "metadata": {},
     "output_type": "execute_result"
    }
   ],
   "source": [
    "from sklearn.svm import SVC\n",
    "clsfr_rbf = SVC(kernel='rbf', gamma=2, C=1)\n",
    "clsfr_rbf.fit(X_train, y_train)"
   ]
  },
  {
   "cell_type": "code",
   "execution_count": 17,
   "metadata": {},
   "outputs": [
    {
     "name": "stdout",
     "output_type": "stream",
     "text": [
      "Accuracy score = 0.964\n",
      "Jaccard Index = 0.906\n",
      "Confusion matrix:  \n",
      " [[84  5]\n",
      " [ 0 48]]\n"
     ]
    }
   ],
   "source": [
    "# Measuring accuracy of the model \n",
    "from sklearn.metrics import accuracy_score\n",
    "from sklearn.metrics import jaccard_score\n",
    "from sklearn.metrics import confusion_matrix\n",
    "\n",
    "y_pred = clsfr_rbf.predict(X_test)\n",
    "acc_score = accuracy_score(y_test, y_pred)\n",
    "jacc_index = jaccard_score(y_test, y_pred)\n",
    "\n",
    "print('Accuracy score = {:.3f}'.format(acc_score))\n",
    "print('Jaccard Index = {:.3f}'.format(jacc_index))\n",
    "\n",
    "cm = confusion_matrix(y_test, y_pred)\n",
    "print('Confusion matrix: ', '\\n',cm)"
   ]
  },
  {
   "cell_type": "markdown",
   "metadata": {},
   "source": [
    "Model with __rbf__ kernel type performed better than linear SVM classifier."
   ]
  },
  {
   "cell_type": "code",
   "execution_count": null,
   "metadata": {},
   "outputs": [],
   "source": []
  }
 ],
 "metadata": {
  "kernelspec": {
   "display_name": "Python 3",
   "language": "python",
   "name": "python3"
  },
  "language_info": {
   "codemirror_mode": {
    "name": "ipython",
    "version": 3
   },
   "file_extension": ".py",
   "mimetype": "text/x-python",
   "name": "python",
   "nbconvert_exporter": "python",
   "pygments_lexer": "ipython3",
   "version": "3.7.3"
  }
 },
 "nbformat": 4,
 "nbformat_minor": 2
}
